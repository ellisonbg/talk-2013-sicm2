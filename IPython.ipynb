{
 "metadata": {
  "name": ""
 },
 "nbformat": 3,
 "nbformat_minor": 0,
 "worksheets": [
  {
   "cells": [
    {
     "cell_type": "code",
     "collapsed": false,
     "input": [
      "%load_ext load_style\n",
      "%load_style talk.css\n",
      "from talktools import website, nbviewer"
     ],
     "language": "python",
     "metadata": {
      "slideshow": {
       "slide_type": "slide"
      }
     },
     "outputs": [
      {
       "output_type": "stream",
       "stream": "stdout",
       "text": [
        "The load_style extension is already loaded. To reload it, use:\n",
        "  %reload_ext load_style\n"
       ]
      },
      {
       "html": [
        "<style>\n",
        "\n",
        ".rendered_html {\n",
        "    font-family: \"proxima-nova\", helvetica;\n",
        "    font-size: 150%;\n",
        "    line-height: 1.3;\n",
        "}\n",
        "\n",
        ".rendered_html h1 {\n",
        "    margin: 0.25em 0em 0.5em;\n",
        "    color: #015C9C;\n",
        "    text-align: center;\n",
        "    line-height: 1.2; \n",
        "    page-break-before: always;\n",
        "}\n",
        "\n",
        ".rendered_html h2 {\n",
        "    margin: 1.1em 0em 0.5em;\n",
        "    color: #26465D;\n",
        "    line-height: 1.2;\n",
        "}\n",
        "\n",
        ".rendered_html h3 {\n",
        "    margin: 1.1em 0em 0.5em;\n",
        "    color: #002845;\n",
        "    line-height: 1.2;\n",
        "}\n",
        "\n",
        ".rendered_html li {\n",
        "    line-height: 1.5; \n",
        "}\n",
        "\n",
        "/*.prompt {\n",
        "    font-size: 120%; \n",
        "}*/\n",
        "\n",
        ".CodeMirror-lines {\n",
        "    font-size: 120%; \n",
        "}\n",
        "\n",
        "/*.output_area {\n",
        "    font-size: 120%; \n",
        "}*/\n",
        "\n",
        "#notebook {\n",
        "    background-image: url('files/images/witewall_3.png');\n",
        "}\n",
        "\n",
        "h1.bigtitle {\n",
        "    margin: 4cm 1cm 4cm 1cm;\n",
        "    font-size: 300%;\n",
        "}\n",
        "\n",
        "h3.point {\n",
        "    font-size: 200%;\n",
        "    text-align: center;\n",
        "    margin: 2em 0em 2em 0em;\n",
        "    #26465D\n",
        "}\n",
        "\n",
        ".logo {\n",
        "    margin: 20px 0 20px 0;\n",
        "}\n",
        "\n",
        "a.anchor-link {\n",
        "    display: none;\n",
        "}\n",
        "\n",
        "h1.title { \n",
        "    font-size: 250%;\n",
        "}\n",
        "\n",
        "</style>"
       ],
       "metadata": {},
       "output_type": "display_data",
       "text": [
        "<IPython.core.display.HTML at 0x10715e450>"
       ]
      }
     ],
     "prompt_number": 14
    },
    {
     "cell_type": "heading",
     "level": 1,
     "metadata": {
      "slideshow": {
       "slide_type": "slide"
      }
     },
     "source": [
      "<h1 class=\"bigtitle\">The IPython Project</h1>\n",
      "\n",
      "<center>\n",
      "<img src=\"files/images/ipython_logo.png\" />\n",
      "</center>"
     ]
    },
    {
     "cell_type": "heading",
     "level": 1,
     "metadata": {
      "slideshow": {
       "slide_type": "slide"
      }
     },
     "source": [
      "Telling stories with code and data"
     ]
    },
    {
     "cell_type": "markdown",
     "metadata": {
      "slideshow": {
       "slide_type": "-"
      }
     },
     "source": [
      "Scientific computing is about more than just code and data.  \n",
      "\n",
      "It is about **telling stories** with code and data.\n",
      "\n",
      "These data driven stories include other types of content:\n",
      "\n",
      "* Narrative text\n",
      "* Images and video\n",
      "* Equations\n",
      "* Plots and other visualizations\n",
      "\n",
      "We go through different phases as we tell these stories:\n",
      "\n",
      "* Individual exploration\n",
      "* Collaborative development\n",
      "* Production execution\n",
      "* Debugging\n",
      "* Publication\n",
      "* Presentation\n",
      "* Education"
     ]
    },
    {
     "cell_type": "markdown",
     "metadata": {
      "slideshow": {
       "slide_type": "slide"
      }
     },
     "source": [
      "<h1>IPython is an interactive computing environment for telling stories with code and\n",
      "data that are interactive, exploratory, social, open and reproducible</h1>"
     ]
    },
    {
     "cell_type": "markdown",
     "metadata": {
      "slideshow": {
       "slide_type": "slide"
      }
     },
     "source": [
      "<center>\n",
      "<img src=\"files/images/ipython_logo.png\" width=400/>\n",
      "</center>"
     ]
    },
    {
     "cell_type": "markdown",
     "metadata": {},
     "source": [
      "* [IPython](http://ipython.org): open source (BSD) interactive computing environment in Python\n",
      "* History:\n",
      "    - Started in 2001 by Fernando Perez (BDFL)\n",
      "    - The project now has an [extremely dedicated and talented team](https://github.com/ipython/ipython/contributors)\n",
      "* $>$ 20 person years of development, $>$ 150 contributors\n",
      "* IPython is the de facto standard environment for interactive work in Python\n",
      "* Funded by:\n",
      "    - Volunteers (mostly)\n",
      "    - NASA, DOD/DRC, NIH\n",
      "    - Microsoft, Enthought\n",
      "    - Alfred P. Sloan Foundation\n",
      "        - $1.15 million dollar grant for 2013-2014\n",
      "        - PIs: F. Perez @ UC Berkeley and B. Granger @ Cal Poly"
     ]
    },
    {
     "cell_type": "code",
     "collapsed": false,
     "input": [
      "website('http://ipython.org', height=500)"
     ],
     "language": "python",
     "metadata": {
      "slideshow": {
       "slide_type": "slide"
      }
     },
     "outputs": [
      {
       "html": [
        "<iframe src=\"http://ipython.org\"  width=\"800\" height=\"500\">"
       ],
       "metadata": {},
       "output_type": "pyout",
       "prompt_number": 16,
       "text": [
        "<IPython.core.display.HTML at 0x10715e790>"
       ]
      }
     ],
     "prompt_number": 16
    },
    {
     "cell_type": "heading",
     "level": 1,
     "metadata": {
      "slideshow": {
       "slide_type": "slide"
      }
     },
     "source": [
      "Core abstractions"
     ]
    },
    {
     "cell_type": "markdown",
     "metadata": {},
     "source": [
      "* Kernels run code\n",
      "  - Stateful computation engine\n",
      "  - Kernels can run code in any language\n",
      "  - Capabilities exposed through a langauge agnostic JSON based message protocol\n",
      "  - ZeroMQ used as a transport layer: high performance, low latency\n",
      "  - Kernels can run anywhere\n",
      "* Frontends provide user interfaces\n",
      "  - Terminal (the original IPython)\n",
      "  - QtConsole\n",
      "  - Notebook\n",
      "  - Kernel publishes results (text, images, HTML, JSON, JavaScript, LaTeX) back to the frontend\n",
      "* Parallel computing\n",
      "  - Multiple kernels coordinated by schedulers\n",
      "  - Task = Python function with arguments"
     ]
    },
    {
     "cell_type": "heading",
     "level": 1,
     "metadata": {
      "slideshow": {
       "slide_type": "slide"
      }
     },
     "source": [
      "<h1 class=\"bigtitle\">The IPython Notebook</h1>"
     ]
    },
    {
     "cell_type": "heading",
     "level": 1,
     "metadata": {
      "slideshow": {
       "slide_type": "slide"
      }
     },
     "source": [
      "A web-based UI for writing and running code"
     ]
    },
    {
     "cell_type": "markdown",
     "metadata": {
      "slideshow": {
       "slide_type": "-"
      }
     },
     "source": [
      "We try to make writing code pleasant:\n",
      "\n",
      "* Tab completion\n",
      "* Integrated help\n",
      "* Syntax highlighting\n",
      "* Civilized multiline editing\n",
      "* Interactive shorthands (aliases, magics)"
     ]
    },
    {
     "cell_type": "code",
     "collapsed": false,
     "input": [
      "%pylab inline"
     ],
     "language": "python",
     "metadata": {},
     "outputs": [
      {
       "output_type": "stream",
       "stream": "stdout",
       "text": [
        "\n",
        "Welcome to pylab, a matplotlib-based Python environment [backend: module://IPython.kernel.zmq.pylab.backend_inline].\n",
        "For more information, type 'help(pylab)'.\n"
       ]
      }
     ],
     "prompt_number": 17
    },
    {
     "cell_type": "code",
     "collapsed": false,
     "input": [
      "plot(rand(50))"
     ],
     "language": "python",
     "metadata": {},
     "outputs": [
      {
       "metadata": {},
       "output_type": "pyout",
       "prompt_number": 18,
       "text": [
        "[<matplotlib.lines.Line2D at 0x108e25c90>]"
       ]
      },
      {
       "metadata": {},
       "output_type": "display_data",
       "png": "[encoded data removed]",
       "text": [
        "<matplotlib.figure.Figure at 0x10761ee90>"
       ]
      }
     ],
     "prompt_number": 18
    },
    {
     "cell_type": "heading",
     "level": 1,
     "metadata": {
      "slideshow": {
       "slide_type": "slide"
      }
     },
     "source": [
      "Languages other than Python"
     ]
    },
    {
     "cell_type": "markdown",
     "metadata": {
      "slideshow": {
       "slide_type": "-"
      }
     },
     "source": [
      "The Notebook supports running code in other languages through two means:\n",
      "\n",
      "1. Cell magics\n",
      "2. Native Kernels\n",
      "\n",
      "## Cell magics\n",
      "\n",
      "A cell that begins with `%%` can contain code in other languages (ruby, julia, R, perl, bash, etc.):"
     ]
    },
    {
     "cell_type": "code",
     "collapsed": false,
     "input": [
      "%%bash\n",
      "echo \"Hi there Strata!\""
     ],
     "language": "python",
     "metadata": {
      "slideshow": {
       "slide_type": "-"
      }
     },
     "outputs": [
      {
       "output_type": "stream",
       "stream": "stdout",
       "text": [
        "Hi there Strata!\n"
       ]
      }
     ],
     "prompt_number": 21
    },
    {
     "cell_type": "markdown",
     "metadata": {
      "slideshow": {
       "slide_type": "-"
      }
     },
     "source": [
      "## Native kernels\n",
      "\n",
      "IPython message protocol and Notebook web application are language independent:\n",
      "    \n",
      "* The IPython Kernel can be replaced by kernels in other languages\n",
      "* Initial work has begun on native Ruby, node.js, Julia kernels\n",
      "* Plans for native R, MATLAB kernels\n",
      "* Native kernels don't require the extra `%%` syntax\n",
      "\n",
      "<h2>This is not just about Python!  While we are passionate about Python, we deeply believe that scientific\n",
      "computing is a multi-language enterprise.</h2>"
     ]
    },
    {
     "cell_type": "heading",
     "level": 1,
     "metadata": {
      "slideshow": {
       "slide_type": "slide"
      }
     },
     "source": [
      "<h1 class=\"bigtitle\">The IPython Notebook</h1>"
     ]
    },
    {
     "cell_type": "heading",
     "level": 1,
     "metadata": {},
     "source": [
      "Demo: Importable Python code"
     ]
    },
    {
     "cell_type": "heading",
     "level": 1,
     "metadata": {
      "slideshow": {
       "slide_type": "slide"
      }
     },
     "source": [
      "<h1 class=\"bigtitle\">The IPython Notebook</h1>"
     ]
    },
    {
     "cell_type": "heading",
     "level": 1,
     "metadata": {
      "slideshow": {
       "slide_type": "slide"
      }
     },
     "source": [
      "An open, JSON based document format"
     ]
    },
    {
     "cell_type": "code",
     "collapsed": false,
     "input": [
      "from IPython.nbformat import current\n",
      "with open('IPython.ipynb') as f:\n",
      "    nb = current.read(f,'json')"
     ],
     "language": "python",
     "metadata": {
      "slideshow": {
       "slide_type": "-"
      }
     },
     "outputs": [],
     "prompt_number": 22
    },
    {
     "cell_type": "code",
     "collapsed": false,
     "input": [
      "nb.worksheets[0].cells[0:5]"
     ],
     "language": "python",
     "metadata": {
      "slideshow": {
       "slide_type": "-"
      }
     },
     "outputs": [
      {
       "metadata": {},
       "output_type": "pyout",
       "prompt_number": 23,
       "text": [
        "[{u'cell_type': u'code',\n",
        "  u'collapsed': False,\n",
        "  u'input': u'%load_ext load_style\\n%load_style talk.css\\nfrom talktools import website, nbviewer',\n",
        "  u'language': u'python',\n",
        "  u'metadata': {u'slideshow': {u'slide_type': u'slide'}},\n",
        "  u'outputs': [{u'output_type': u'stream',\n",
        "    u'stream': u'stdout',\n",
        "    u'text': u'The load_style extension is already loaded. To reload it, use:\\n  %reload_ext load_style\\n'},\n",
        "   {u'html': u'<style>\\n\\n.rendered_html {\\n    font-family: \"proxima-nova\", helvetica;\\n    font-size: 150%;\\n    line-height: 1.3;\\n}\\n\\n.rendered_html h1 {\\n    margin: 0.25em 0em 0.5em;\\n    color: #015C9C;\\n    text-align: center;\\n    line-height: 1.2; \\n    page-break-before: always;\\n}\\n\\n.rendered_html h2 {\\n    margin: 1.1em 0em 0.5em;\\n    color: #26465D;\\n    line-height: 1.2;\\n}\\n\\n.rendered_html h3 {\\n    margin: 1.1em 0em 0.5em;\\n    color: #002845;\\n    line-height: 1.2;\\n}\\n\\n.rendered_html li {\\n    line-height: 1.5; \\n}\\n\\n/*.prompt {\\n    font-size: 120%; \\n}*/\\n\\n.CodeMirror-lines {\\n    font-size: 120%; \\n}\\n\\n/*.output_area {\\n    font-size: 120%; \\n}*/\\n\\n#notebook {\\n    background-image: url(\\'files/images/witewall_3.png\\');\\n}\\n\\nh1.bigtitle {\\n    margin: 4cm 1cm 4cm 1cm;\\n    font-size: 300%;\\n}\\n\\nh3.point {\\n    font-size: 200%;\\n    text-align: center;\\n    margin: 2em 0em 2em 0em;\\n    #26465D\\n}\\n\\n.logo {\\n    margin: 20px 0 20px 0;\\n}\\n\\na.anchor-link {\\n    display: none;\\n}\\n\\nh1.title { \\n    font-size: 250%;\\n}\\n\\n</style>',\n",
        "    u'metadata': {},\n",
        "    u'output_type': u'display_data',\n",
        "    u'text': u'<IPython.core.display.HTML at 0x10715e450>'}],\n",
        "  u'prompt_number': 14},\n",
        " {u'cell_type': u'heading',\n",
        "  u'level': 1,\n",
        "  u'metadata': {u'slideshow': {u'slide_type': u'slide'}},\n",
        "  u'source': u'<h1 class=\"bigtitle\">The IPython Project</h1>\\n\\n<center>\\n<img src=\"files/images/ipython_logo.png\" />\\n</center>'},\n",
        " {u'cell_type': u'heading',\n",
        "  u'level': 1,\n",
        "  u'metadata': {u'slideshow': {u'slide_type': u'slide'}},\n",
        "  u'source': u'Telling stories with code and data'},\n",
        " {u'cell_type': u'markdown',\n",
        "  u'metadata': {u'slideshow': {u'slide_type': u'-'}},\n",
        "  u'source': u'Scientific computing is about more than just code and data.  \\n\\nIt is about **telling stories** with code and data.\\n\\nThese data driven stories include other types of content:\\n\\n* Narrative text\\n* Images and video\\n* Equations\\n* Plots and other visualizations\\n\\nWe go through different phases as we tell these stories:\\n\\n* Individual exploration\\n* Collaborative development\\n* Production execution\\n* Debugging\\n* Publication\\n* Presentation\\n* Education'},\n",
        " {u'cell_type': u'markdown',\n",
        "  u'metadata': {u'slideshow': {u'slide_type': u'fragment'}},\n",
        "  u'source': u'<h1>IPython is an interactive computing environment for telling stories with code and\\ndata that are interactive, exploratory, social, open and reproducible</h1>'}]"
       ]
      }
     ],
     "prompt_number": 23
    },
    {
     "cell_type": "heading",
     "level": 1,
     "metadata": {
      "slideshow": {
       "slide_type": "slide"
      }
     },
     "source": [
      "Notebook documents"
     ]
    },
    {
     "cell_type": "markdown",
     "metadata": {
      "slideshow": {
       "slide_type": "-"
      }
     },
     "source": [
      "* Are stored as files in your local directory\n",
      "* Can store:\n",
      "    - **Code in any language**\n",
      "    - Text (Markdown)\n",
      "    - Equations (LaTeX)\n",
      "    - Images\n",
      "    - Links to video\n",
      "    - HTML\n",
      "* Can be version controlled\n",
      "    - Change 1 line of code, get a 1 line diff\n",
      "* Can be viewed by anyone online without IPython installed (<http://nbviewer.ipython.org/>)\n",
      "* Can be exported to HTML, Markdown, reStructured Text, LaTeX, PDF\n",
      "* Can be viewed as slideshows with live computations"
     ]
    },
    {
     "cell_type": "heading",
     "level": 1,
     "metadata": {
      "slideshow": {
       "slide_type": "slide"
      }
     },
     "source": [
      "Notebooks make scientific computing social"
     ]
    },
    {
     "cell_type": "markdown",
     "metadata": {},
     "source": [
      "Any Notebook on GitHub or elsewhere on the internet can be viewed instantly by visiting\n",
      "http://nbviewer.ipython.org."
     ]
    },
    {
     "cell_type": "code",
     "collapsed": false,
     "input": [
      "website('http://nbviewer.ipython.org')"
     ],
     "language": "python",
     "metadata": {},
     "outputs": [
      {
       "html": [
        "<iframe src=\"http://nbviewer.ipython.org\"  width=\"800\" height=\"450\">"
       ],
       "metadata": {},
       "output_type": "pyout",
       "prompt_number": 24,
       "text": [
        "<IPython.core.display.HTML at 0x108d60690>"
       ]
      }
     ],
     "prompt_number": 24
    },
    {
     "cell_type": "heading",
     "level": 1,
     "metadata": {
      "slideshow": {
       "slide_type": "slide"
      }
     },
     "source": [
      "Users are posting their Notebooks on GitHub and sharing them through nbviewer and Twitter"
     ]
    },
    {
     "cell_type": "markdown",
     "metadata": {},
     "source": [
      "<center>\n",
      "<img src=\"files/images/tweet.png\" />\n",
      "</center>"
     ]
    },
    {
     "cell_type": "code",
     "collapsed": false,
     "input": [
      "nbviewer('raw.github.com/agconti/kaggle-titanic/master/Titanic.ipynb')"
     ],
     "language": "python",
     "metadata": {},
     "outputs": [
      {
       "html": [
        "<iframe src=\"http://nbviewer.ipython.org/url/raw.github.com/agconti/kaggle-titanic/master/Titanic.ipynb\"  width=\"800\" height=\"450\">"
       ],
       "metadata": {},
       "output_type": "pyout",
       "prompt_number": 25,
       "text": [
        "<IPython.core.display.HTML at 0x108d60090>"
       ]
      }
     ],
     "prompt_number": 25
    },
    {
     "cell_type": "heading",
     "level": 1,
     "metadata": {
      "slideshow": {
       "slide_type": "slide"
      }
     },
     "source": [
      "An entire book on Bayesian methods has been written using IPython Notebooks"
     ]
    },
    {
     "cell_type": "markdown",
     "metadata": {},
     "source": [
      "Author: Cameron Davidson-Pilon"
     ]
    },
    {
     "cell_type": "code",
     "collapsed": false,
     "input": [
      "website('http://camdavidsonpilon.github.io/Probabilistic-Programming-and-Bayesian-Methods-for-Hackers/')"
     ],
     "language": "python",
     "metadata": {},
     "outputs": [
      {
       "html": [
        "<iframe src=\"http://camdavidsonpilon.github.io/Probabilistic-Programming-and-Bayesian-Methods-for-Hackers/\"  width=\"800\" height=\"450\">"
       ],
       "metadata": {},
       "output_type": "pyout",
       "prompt_number": 27,
       "text": [
        "<IPython.core.display.HTML at 0x108e10350>"
       ]
      }
     ],
     "prompt_number": 27
    },
    {
     "cell_type": "heading",
     "level": 1,
     "metadata": {
      "slideshow": {
       "slide_type": "slide"
      }
     },
     "source": [
      "IPython Notebook gallery"
     ]
    },
    {
     "cell_type": "markdown",
     "metadata": {},
     "source": [
      "We maintain a [gallery of interesting Notebooks](https://github.com/ipython/ipython/wiki/A-gallery-of-interesting-IPython-Notebooks) that contains a curated list\n",
      "of IPython Notebooks on various topics. Here is one studying chemical reactions:"
     ]
    },
    {
     "cell_type": "code",
     "collapsed": false,
     "input": [
      "nbviewer(gist='4316430', width=800)"
     ],
     "language": "python",
     "metadata": {},
     "outputs": [
      {
       "html": [
        "<iframe src=\"http://nbviewer.ipython.org/4316430\"  width=\"800\" height=\"450\">"
       ],
       "metadata": {},
       "output_type": "pyout",
       "prompt_number": 28,
       "text": [
        "<IPython.core.display.HTML at 0x108e10850>"
       ]
      }
     ],
     "prompt_number": 28
    },
    {
     "cell_type": "heading",
     "level": 1,
     "metadata": {
      "slideshow": {
       "slide_type": "slide"
      }
     },
     "source": [
      "An ecosystem of third party tools"
     ]
    },
    {
     "cell_type": "markdown",
     "metadata": {},
     "source": [
      "IPython provides an **open source foundation** for an ecosystem of tools and products\n",
      "\n",
      "* [Software Carpentry](http://software-carpentry.org/): helping scientist build better software using IPython Notebooks\n",
      "* Microsoft:\n",
      "    - Visual Studio Integration through [Python Tools for Visual Studio](http://pytools.codeplex.com/)\n",
      "    - Featured project on Microsoft Azure\n",
      "* Commercial Python distributions that include IPython:\n",
      "    - [Enthought Python Distribution (EPD)](http://www.enthought.com/products/epd.php)\n",
      "    - [Continuum Analytics Anaconda](https://store.continuum.io/)\n",
      "* Deploy the single user Notebook on Amazon\n",
      "    - [StarCluster](http://star.mit.edu/cluster/)\n",
      "    - [Notebook Cloud](https://notebookcloud.appspot.com/docs)\n",
      "* Cloud hosted Notebooks:\n",
      "    - [PiCloud](http://www.picloud.com/)\n",
      "    - [Wakari](http://continuum.io/wakari.html)\n",
      "* Other IPython Frontends:\n",
      "    - Vim frontend: https://github.com/ivanov/vim-ipython\n",
      "    - Emacs Notebook frontend: https://github.com/tkf/emacs-ipython-notebook\n",
      "    - vIPer: https://github.com/damianavila/vIPer"
     ]
    },
    {
     "cell_type": "heading",
     "level": 1,
     "metadata": {
      "slideshow": {
       "slide_type": "slide"
      }
     },
     "source": [
      "The future"
     ]
    },
    {
     "cell_type": "markdown",
     "metadata": {},
     "source": [
      "* Notebook conversion (2012)\n",
      "    - To and from a wide range of formats\n",
      "    - HTML, LaTeX, PDF, Markdown, reStructured Text\n",
      "* Interactive widgets (2012)\n",
      "    - The IPython kernel already knows how to send JSON representations of objects to the browser\n",
      "    - We are developing an architecture that will allow interactive JavaScript widgets and Python objects to pass JSON data back and forth.\n",
      "    - Automatic generation of UI controls for Python objects\n",
      "* Multiuser Notebook server (2013)\n",
      "    - Small to medium groups of users\n",
      "    - Trusted users - you would give these folks shell accounts\n",
      "\n",
      "See our [development roadmap](https://github.com/ipython/ipython/wiki/Roadmap:-IPython) for details"
     ]
    },
    {
     "cell_type": "heading",
     "level": 1,
     "metadata": {
      "slideshow": {
       "slide_type": "slide"
      }
     },
     "source": [
      "More information"
     ]
    },
    {
     "cell_type": "markdown",
     "metadata": {},
     "source": [
      "* Visit the [IPython website](http://ipython.org/index.html)\n",
      "* IPython is completely open source so you can download it and play with it today\n",
      "* The IPython Notebook is a single user web application that you run on your local computer\n",
      "\n",
      "        $ipython notebook\n",
      "\n",
      "* Here are our [Quick installation instructions](http://ipython.org/install.html)"
     ]
    }
   ],
   "metadata": {}
  }
 ]
}