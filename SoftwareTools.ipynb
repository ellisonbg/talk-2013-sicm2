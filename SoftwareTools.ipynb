{
 "metadata": {
  "name": ""
 },
 "nbformat": 3,
 "nbformat_minor": 0,
 "worksheets": [
  {
   "cells": [
    {
     "cell_type": "markdown",
     "metadata": {
      "slideshow": {
       "slide_type": "slide"
      }
     },
     "source": [
      "<h1 class=\"title\">Encouraging open, exploratory, collaborative  and\n",
      "reproducible scientific computing</h1>"
     ]
    },
    {
     "cell_type": "markdown",
     "metadata": {
      "slideshow": {
       "slide_type": "slide"
      }
     },
     "source": [
      "<center>\n",
      "\n",
      "<h2>Brian Granger (ellisonbg)</h2>\n",
      "\n",
      "<div>\n",
      "    <img class=\"logo\" src=\"files/images/calpoly_logo.png\" height=100 />\n",
      "</div>\n",
      "\n",
      "<div>\n",
      "    <img class=\"logo\" src=\"files/images/ipython_logo.png\" height=100 />\n",
      "</div>\n",
      "\n",
      "<h3>Code and Data Interoperability Workshop</h3>\n",
      "<h3>Sustainable Software for Chemistry and Materials</h3>\n",
      "<h3>Virginia Tech, July 18-19, 2013</h3>\n",
      "</center>"
     ]
    },
    {
     "cell_type": "markdown",
     "metadata": {
      "slideshow": {
       "slide_type": "slide"
      }
     },
     "source": [
      "Let's style this IPython Notebook:"
     ]
    },
    {
     "cell_type": "code",
     "collapsed": false,
     "input": [
      "a = 10"
     ],
     "language": "python",
     "metadata": {},
     "outputs": [],
     "prompt_number": 1
    },
    {
     "cell_type": "code",
     "collapsed": false,
     "input": [
      "print a"
     ],
     "language": "python",
     "metadata": {},
     "outputs": [
      {
       "output_type": "stream",
       "stream": "stdout",
       "text": [
        "10\n"
       ]
      }
     ],
     "prompt_number": 2
    },
    {
     "cell_type": "code",
     "collapsed": false,
     "input": [
      "%load_ext load_style\n",
      "%load_style talk.css"
     ],
     "language": "python",
     "metadata": {},
     "outputs": [
      {
       "html": [
        "<style>\n",
        "\n",
        ".rendered_html {\n",
        "    font-family: \"proxima-nova\", helvetica;\n",
        "    font-size: 150%;\n",
        "    line-height: 1.3;\n",
        "}\n",
        "\n",
        ".rendered_html h1 {\n",
        "    margin: 0.25em 0em 0.5em;\n",
        "    color: #015C9C;\n",
        "    text-align: center;\n",
        "    line-height: 1.2; \n",
        "    page-break-before: always;\n",
        "}\n",
        "\n",
        ".rendered_html h2 {\n",
        "    margin: 1.1em 0em 0.5em;\n",
        "    color: #26465D;\n",
        "    line-height: 1.2;\n",
        "}\n",
        "\n",
        ".rendered_html h3 {\n",
        "    margin: 1.1em 0em 0.5em;\n",
        "    color: #002845;\n",
        "    line-height: 1.2;\n",
        "}\n",
        "\n",
        ".rendered_html li {\n",
        "    line-height: 1.5; \n",
        "}\n",
        "\n",
        "/*.prompt {\n",
        "    font-size: 120%; \n",
        "}*/\n",
        "\n",
        ".CodeMirror-lines {\n",
        "    font-size: 120%; \n",
        "}\n",
        "\n",
        "/*.output_area {\n",
        "    font-size: 120%; \n",
        "}*/\n",
        "\n",
        "#notebook {\n",
        "    background-image: url('files/images/witewall_3.png');\n",
        "}\n",
        "\n",
        "h1.bigtitle {\n",
        "    margin: 4cm 1cm 4cm 1cm;\n",
        "    font-size: 300%;\n",
        "}\n",
        "\n",
        "h3.point {\n",
        "    font-size: 200%;\n",
        "    text-align: center;\n",
        "    margin: 2em 0em 2em 0em;\n",
        "    #26465D\n",
        "}\n",
        "\n",
        ".logo {\n",
        "    margin: 20px 0 20px 0;\n",
        "}\n",
        "\n",
        "a.anchor-link {\n",
        "    display: none;\n",
        "}\n",
        "\n",
        "h1.title { \n",
        "    font-size: 250%;\n",
        "}\n",
        "\n",
        "</style>"
       ],
       "metadata": {},
       "output_type": "display_data",
       "text": [
        "<IPython.core.display.HTML at 0x110d3d0d0>"
       ]
      }
     ],
     "prompt_number": 3
    },
    {
     "cell_type": "heading",
     "level": 1,
     "metadata": {
      "slideshow": {
       "slide_type": "slide"
      }
     },
     "source": [
      "My background"
     ]
    },
    {
     "cell_type": "markdown",
     "metadata": {},
     "source": [
      "Physics Professor\n",
      "\n",
      "* I teach Physics and do research with undergraduates\n",
      "* [Cal Poly](http://www.calpoly.edu/), San Luis Obispo\n",
      "* Background in AMO Physics: B-splines, Variational R-Matrix, low T quantum gases\n",
      "* Research in symbolic quantum mechanics and quantum computing\n",
      "* A **user** of scientific and technical computing tools and libraries\n",
      "\n",
      "Open source hacker\n",
      "\n",
      "* I am a **developer** of tools and libraries for scientific and technical computing\n",
      "* Core developer of [IPython](http://ipython.org) (Interactive computing environment)\n",
      "* Creator of [PyZMQ](https://github.com/zeromq/pyzmq) (Python bindings to ZeroMQ, high performance messaging library)\n",
      "* Core developer to [SymPy](http://sympy.org/en/index.html) (symbolic mathematics library for Python)"
     ]
    },
    {
     "cell_type": "heading",
     "level": 1,
     "metadata": {
      "slideshow": {
       "slide_type": "slide"
      }
     },
     "source": [
      "Software based science"
     ]
    },
    {
     "cell_type": "markdown",
     "metadata": {},
     "source": [
      "## Almost all science requires computation\n",
      "\n",
      "## Computation requires software\n",
      "\n",
      "## Idea 1: Software is one of the foundations of science"
     ]
    },
    {
     "cell_type": "heading",
     "level": 1,
     "metadata": {
      "slideshow": {
       "slide_type": "slide"
      }
     },
     "source": [
      "The nature of software and science"
     ]
    },
    {
     "cell_type": "markdown",
     "metadata": {},
     "source": [
      "## Idea 2: The attributes of science follows from the attributes of software\n",
      "\n",
      "## Expensive software = expensive science\n",
      "\n",
      "## Buggy software = buggy science\n",
      "\n",
      "## Fast software = fast science\n",
      "\n",
      "## Friendly software = friendly science\n",
      "\n",
      "## Fragmented software = fragmented science"
     ]
    },
    {
     "cell_type": "heading",
     "level": 1,
     "metadata": {
      "slideshow": {
       "slide_type": "slide"
      }
     },
     "source": [
      "What qualities/attributes do we want science to have?"
     ]
    },
    {
     "cell_type": "markdown",
     "metadata": {},
     "source": [
      "## Fast, cheap, open, transparent, accessible\n",
      "\n",
      "## Efficient, lightweight, flexible\n",
      "\n",
      "## Repeatable, testable, verifiable\n",
      "\n",
      "## Collaborative, social, societal\n",
      "\n",
      "## Error free, bias free\n",
      "\n",
      "## Accountable, recordable, teachable\n",
      "\n",
      "## Interoperable, friendly\n",
      "\n",
      "## Fun!"
     ]
    },
    {
     "cell_type": "heading",
     "level": 1,
     "metadata": {
      "slideshow": {
       "slide_type": "slide"
      }
     },
     "source": [
      "<h1 class=\"bigtitle\">We need software tools that have these attributes!</h1>"
     ]
    },
    {
     "cell_type": "heading",
     "level": 1,
     "metadata": {
      "slideshow": {
       "slide_type": "slide"
      }
     },
     "source": [
      "The role of software extends far beyond simulation and data analysis"
     ]
    },
    {
     "cell_type": "markdown",
     "metadata": {},
     "source": [
      "We need to consider the entire **lifecycle** of scientific research:\n",
      "\n",
      "* Individual exploration (MATLAB, Mathematica, Python,...)\n",
      "* Collaborative development (git, svn,...)\n",
      "* Production execution (C++, C, Fortran, MPI)\n",
      "* Building and deploying code (autotools, cmake,...)\n",
      "* Debugging (gdb, Python, valgrind)\n",
      "* Analysis and visualization (Perl, bash, Python, MATLAB,..)\n",
      "* Publication (LaTeX, Word)\n",
      "* Presentation (LaTeX, Powerpoint, Keynote)\n",
      "* Education (Powerpoint, chalk/white boards,...)\n",
      "\n",
      "Traditional software tools provide little help in making the transitions between these\n",
      "phases. Each phase involves a new set of software tools that don't integrate with the rest.\n",
      "This is horribly painful for users. The result is an unnecessary and heavy cognitive\n",
      "load that reduces users ability to do science. "
     ]
    },
    {
     "cell_type": "heading",
     "level": 1,
     "metadata": {
      "slideshow": {
       "slide_type": "slide"
      }
     },
     "source": [
      "Software tools that are transforming scientific computing"
     ]
    },
    {
     "cell_type": "markdown",
     "metadata": {},
     "source": [
      "## Development tools\n",
      "\n",
      "* Git/GitHub\n",
      "* Travis CI\n",
      "\n",
      "## Performance tools\n",
      "\n",
      "* Cython\n",
      "* Numba\n",
      "\n",
      "## Tools I am working on\n",
      "\n",
      "* IPython\n",
      "* SymPy\n"
     ]
    }
   ],
   "metadata": {}
  }
 ]
}